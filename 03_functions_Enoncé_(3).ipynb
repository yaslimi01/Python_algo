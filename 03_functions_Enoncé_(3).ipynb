{
  "nbformat": 4,
  "nbformat_minor": 0,
  "metadata": {
    "celltoolbar": "Nbtutor - export exercises",
    "kernelspec": {
      "display_name": "Python 3",
      "language": "python",
      "name": "python3"
    },
    "language_info": {
      "codemirror_mode": {
        "name": "ipython",
        "version": 3
      },
      "file_extension": ".py",
      "mimetype": "text/x-python",
      "name": "python",
      "nbconvert_exporter": "python",
      "pygments_lexer": "ipython3",
      "version": "3.8.3"
    },
    "nav_menu": {},
    "toc": {
      "navigate_menu": true,
      "number_sections": true,
      "sideBar": true,
      "threshold": 6,
      "toc_cell": false,
      "toc_section_display": "block",
      "toc_window_display": false
    },
    "colab": {
      "name": "03-functions-Enoncé (3).ipynb",
      "provenance": [],
      "collapsed_sections": []
    }
  },
  "cells": [
    {
      "cell_type": "markdown",
      "metadata": {
        "id": "OhMBE7P44oF_"
      },
      "source": [
        "# Python the basics: functions\n",
        "\n",
        "> *DS Data manipulation, analysis and visualisation in Python*  \n",
        "> *September, 2020*\n"
      ]
    },
    {
      "cell_type": "markdown",
      "metadata": {
        "id": "6x3rRKU34oGM"
      },
      "source": [
        "## Functions"
      ]
    },
    {
      "cell_type": "markdown",
      "metadata": {
        "id": "zBMldMON4oGO"
      },
      "source": [
        "### Function definition"
      ]
    },
    {
      "cell_type": "markdown",
      "metadata": {
        "id": "coHRg8yW4oGP"
      },
      "source": [
        "Function blocks must be indented as other control-flow blocks"
      ]
    },
    {
      "cell_type": "code",
      "metadata": {
        "id": "CFMzUCcJ0dhG"
      },
      "source": [
        "a = 3\n",
        "b = 6"
      ],
      "execution_count": null,
      "outputs": []
    },
    {
      "cell_type": "code",
      "metadata": {
        "colab": {
          "base_uri": "https://localhost:8080/"
        },
        "id": "rmLtVQAi0jF-",
        "outputId": "0c1e9398-d605-40eb-ddbc-3d4090349530"
      },
      "source": [
        "a + b"
      ],
      "execution_count": null,
      "outputs": [
        {
          "output_type": "execute_result",
          "data": {
            "text/plain": [
              "9"
            ]
          },
          "metadata": {},
          "execution_count": 3
        }
      ]
    },
    {
      "cell_type": "code",
      "metadata": {
        "id": "h7ZHzfQX0sV3"
      },
      "source": [
        "#### CRéation de la fonction\n",
        "def addition(a, b): ### Définir une fonction avec 2 arguments (a et b)\n",
        "  print(a+b) #### Afficher en sortie la somme des 2"
      ],
      "execution_count": null,
      "outputs": []
    },
    {
      "cell_type": "code",
      "metadata": {
        "colab": {
          "base_uri": "https://localhost:8080/"
        },
        "id": "cPnUeInt1Kat",
        "outputId": "966355ac-534a-4cba-bd93-08aef550fc87"
      },
      "source": [
        "#### Appel de la fonction\n",
        "addition(3, 6)"
      ],
      "execution_count": null,
      "outputs": [
        {
          "output_type": "stream",
          "name": "stdout",
          "text": [
            "9\n"
          ]
        }
      ]
    },
    {
      "cell_type": "code",
      "metadata": {
        "colab": {
          "base_uri": "https://localhost:8080/"
        },
        "id": "GGqtmpzi1bUO",
        "outputId": "24f2742d-4103-488e-e23b-4c9d3cb31386"
      },
      "source": [
        "#### Appel de la fonction\n",
        "addition(6, 9)"
      ],
      "execution_count": null,
      "outputs": [
        {
          "output_type": "stream",
          "name": "stdout",
          "text": [
            "15\n"
          ]
        }
      ]
    },
    {
      "cell_type": "code",
      "metadata": {
        "colab": {
          "base_uri": "https://localhost:8080/"
        },
        "id": "-HGxueVU1gtY",
        "outputId": "ee55a374-3579-4f24-a3a4-fc1e865a9316"
      },
      "source": [
        "#### Appel de la fonction\n",
        "addition(88, 6)"
      ],
      "execution_count": null,
      "outputs": [
        {
          "output_type": "stream",
          "name": "stdout",
          "text": [
            "94\n"
          ]
        }
      ]
    },
    {
      "cell_type": "code",
      "metadata": {
        "colab": {
          "base_uri": "https://localhost:8080/"
        },
        "id": "QvpKJwlx1ppr",
        "outputId": "89f2709d-c8b5-442e-bdcd-a290d4469a83"
      },
      "source": [
        "%whos"
      ],
      "execution_count": null,
      "outputs": [
        {
          "output_type": "stream",
          "name": "stdout",
          "text": [
            "Variable   Type        Data/Info\n",
            "--------------------------------\n",
            "addition   function    <function addition at 0x7f849f7930e0>\n"
          ]
        }
      ]
    },
    {
      "cell_type": "code",
      "metadata": {
        "run_control": {
          "frozen": false,
          "read_only": false
        },
        "id": "rr34ghy64oGQ"
      },
      "source": [
        "def the_answer_to_the_universe(): #### Fonction sans argument\n",
        "    print(42)"
      ],
      "execution_count": null,
      "outputs": []
    },
    {
      "cell_type": "code",
      "metadata": {
        "colab": {
          "base_uri": "https://localhost:8080/"
        },
        "id": "xrBZsZ-p117a",
        "outputId": "5742dd11-a4df-4c4f-b958-1a1b08d8d791"
      },
      "source": [
        "the_answer_to_the_universe() #### Affiche la sortie"
      ],
      "execution_count": null,
      "outputs": [
        {
          "output_type": "stream",
          "name": "stdout",
          "text": [
            "42\n"
          ]
        }
      ]
    },
    {
      "cell_type": "markdown",
      "metadata": {
        "id": "0lVd_y9u4oGU"
      },
      "source": [
        "**Note**: the syntax to define a function:\n",
        "\n",
        "* the def keyword;\n",
        "* is followed by the function’s name, then\n",
        "* the arguments of the function are given between parentheses followed by a colon.\n",
        "* the function body;\n",
        "* and return object for optionally returning values.\n"
      ]
    },
    {
      "cell_type": "markdown",
      "metadata": {
        "id": "LpJoZqme4oGY"
      },
      "source": [
        "### Return statement"
      ]
    },
    {
      "cell_type": "markdown",
      "metadata": {
        "id": "_OvFdUu24oGZ"
      },
      "source": [
        "Functions can *optionally* return values"
      ]
    },
    {
      "cell_type": "code",
      "metadata": {
        "run_control": {
          "frozen": false,
          "read_only": false
        },
        "id": "y4T2Kc174oGd"
      },
      "source": [
        "def calcAreaSquare(edge): #### Définition de l'air d'un carré\n",
        "    return edge**2 #### Aire du carré"
      ],
      "execution_count": null,
      "outputs": []
    },
    {
      "cell_type": "code",
      "metadata": {
        "colab": {
          "base_uri": "https://localhost:8080/"
        },
        "id": "94nXhbeT2M0q",
        "outputId": "6377ecf5-265b-4936-f3f0-b46708393745"
      },
      "source": [
        "calcAreaSquare(2.3) #### Appel de la fonction: coté 2,3"
      ],
      "execution_count": null,
      "outputs": [
        {
          "output_type": "execute_result",
          "data": {
            "text/plain": [
              "5.289999999999999"
            ]
          },
          "metadata": {},
          "execution_count": 10
        }
      ]
    },
    {
      "cell_type": "markdown",
      "metadata": {
        "id": "RBMqxYdI4oGf"
      },
      "source": [
        "### Parameters"
      ]
    },
    {
      "cell_type": "markdown",
      "metadata": {
        "id": "EwM8JsIj4oGg"
      },
      "source": [
        "Mandatory parameters (positional arguments)"
      ]
    },
    {
      "cell_type": "code",
      "metadata": {
        "run_control": {
          "frozen": false,
          "read_only": false
        },
        "id": "K_QVntPK4oGh"
      },
      "source": [
        "def double_it(x): ### Argument :affcher x et x est obligatoire\n",
        "    return 2*x"
      ],
      "execution_count": null,
      "outputs": []
    },
    {
      "cell_type": "code",
      "metadata": {
        "colab": {
          "base_uri": "https://localhost:8080/"
        },
        "id": "G8_eJxtJ2vDD",
        "outputId": "5c786e17-f6a1-4497-fe5c-0898c2d489d0"
      },
      "source": [
        "double_it(3)"
      ],
      "execution_count": null,
      "outputs": [
        {
          "output_type": "execute_result",
          "data": {
            "text/plain": [
              "6"
            ]
          },
          "metadata": {},
          "execution_count": 12
        }
      ]
    },
    {
      "cell_type": "code",
      "metadata": {
        "run_control": {
          "frozen": false,
          "read_only": false
        },
        "id": "fvE83H1Y4oGn",
        "colab": {
          "base_uri": "https://localhost:8080/",
          "height": 162
        },
        "outputId": "c1bb0d74-aa37-4f45-f932-e914a51b6ef6"
      },
      "source": [
        "double_it()"
      ],
      "execution_count": null,
      "outputs": [
        {
          "output_type": "error",
          "ename": "TypeError",
          "evalue": "ignored",
          "traceback": [
            "\u001b[0;31m---------------------------------------------------------------------------\u001b[0m",
            "\u001b[0;31mTypeError\u001b[0m                                 Traceback (most recent call last)",
            "\u001b[0;32m<ipython-input-13-7e40baa67e25>\u001b[0m in \u001b[0;36m<module>\u001b[0;34m()\u001b[0m\n\u001b[0;32m----> 1\u001b[0;31m \u001b[0mdouble_it\u001b[0m\u001b[0;34m(\u001b[0m\u001b[0;34m)\u001b[0m\u001b[0;34m\u001b[0m\u001b[0;34m\u001b[0m\u001b[0m\n\u001b[0m",
            "\u001b[0;31mTypeError\u001b[0m: double_it() missing 1 required positional argument: 'x'"
          ]
        }
      ]
    },
    {
      "cell_type": "markdown",
      "metadata": {
        "id": "VhC_37oB4oGq"
      },
      "source": [
        "Optional parameters (keyword or named arguments)\n",
        "\n",
        "The order of the keyword arguments does not matter, but it is good practice to use the same ordering as the function's definition\n",
        "\n",
        "*Keyword arguments* are a very convenient feature for defining functions with a variable number of arguments, especially when default values are to be used in most calls to the function."
      ]
    },
    {
      "cell_type": "code",
      "metadata": {
        "run_control": {
          "frozen": false,
          "read_only": false
        },
        "id": "Ia8OJ87o4oGs"
      },
      "source": [
        "def double_it (x=1): ### Par défaut, la valeur de l'argument x vaudra 1\n",
        "    return 2*x"
      ],
      "execution_count": null,
      "outputs": []
    },
    {
      "cell_type": "code",
      "metadata": {
        "colab": {
          "base_uri": "https://localhost:8080/"
        },
        "id": "BZgpWmvP3FFb",
        "outputId": "90346a36-e6f3-474e-944d-838ea74eae59"
      },
      "source": [
        "print(double_it(3)) #### Si un argument est présent, argument *2"
      ],
      "execution_count": null,
      "outputs": [
        {
          "output_type": "stream",
          "name": "stdout",
          "text": [
            "6\n"
          ]
        }
      ]
    },
    {
      "cell_type": "code",
      "metadata": {
        "run_control": {
          "frozen": false,
          "read_only": false
        },
        "id": "yU8LuHSB4oGt",
        "colab": {
          "base_uri": "https://localhost:8080/"
        },
        "outputId": "acf7d70a-85b5-4859-d713-cbc2f368ceff"
      },
      "source": [
        "print(double_it()) ### Pas d'argument ici => Par défaut, l'argument associé est 1"
      ],
      "execution_count": null,
      "outputs": [
        {
          "output_type": "stream",
          "name": "stdout",
          "text": [
            "2\n"
          ]
        }
      ]
    },
    {
      "cell_type": "code",
      "metadata": {
        "run_control": {
          "frozen": false,
          "read_only": false
        },
        "id": "jFp7BJJg4oGu"
      },
      "source": [
        "def addition(int1=1, int2=1, int3=1): #### Par défaut, les argument valent 1\n",
        "    return int1 + 2*int2 + 3*int3"
      ],
      "execution_count": null,
      "outputs": []
    },
    {
      "cell_type": "code",
      "metadata": {
        "colab": {
          "base_uri": "https://localhost:8080/"
        },
        "id": "uynBRpLS32lE",
        "outputId": "d002709f-e203-4b9e-8cbf-1d83563a8b3f"
      },
      "source": [
        "print(addition()) #### Par défaut, 6"
      ],
      "execution_count": null,
      "outputs": [
        {
          "output_type": "stream",
          "name": "stdout",
          "text": [
            "6\n"
          ]
        }
      ]
    },
    {
      "cell_type": "code",
      "metadata": {
        "colab": {
          "base_uri": "https://localhost:8080/"
        },
        "id": "WpMLCn1p3seY",
        "outputId": "12a72f5c-52aa-4311-862b-cb80b72d4835"
      },
      "source": [
        "print(addition(2, 2, 2))"
      ],
      "execution_count": null,
      "outputs": [
        {
          "output_type": "stream",
          "name": "stdout",
          "text": [
            "12\n"
          ]
        }
      ]
    },
    {
      "cell_type": "code",
      "metadata": {
        "run_control": {
          "frozen": false,
          "read_only": false
        },
        "id": "GBOSxaKw4oGw",
        "colab": {
          "base_uri": "https://localhost:8080/"
        },
        "outputId": "312d1945-4bfa-4a36-8fca-d16d90649751"
      },
      "source": [
        "print(addition(int1=2, int3=4, int2=6)) # sequence of these named arguments do not matter"
      ],
      "execution_count": null,
      "outputs": [
        {
          "output_type": "stream",
          "name": "stdout",
          "text": [
            "26\n"
          ]
        }
      ]
    },
    {
      "cell_type": "markdown",
      "metadata": {
        "id": "QHeKbRnL4oGy"
      },
      "source": [
        "<div class=\"alert alert-danger\">\n",
        "    <b>NOTE</b>: <br><br>\n",
        "    Default values are evaluated when the function is defined, not when it is called. This can be problematic when using mutable types (e.g. dictionary or list) and modifying them in the function body, since the modifications will be persistent across invocations of the function.\n",
        "\n",
        "Using an immutable type in a keyword argument:\n",
        "</div>"
      ]
    },
    {
      "cell_type": "code",
      "metadata": {
        "run_control": {
          "frozen": false,
          "read_only": false
        },
        "id": "edwLctTj4oGz"
      },
      "source": [
        "bigx = 10\n",
        "def double_it(x=bigx): #### Argument: valeur en mémoire au moment ou double_it a été exécuté\n",
        "    return x * 2"
      ],
      "execution_count": null,
      "outputs": []
    },
    {
      "cell_type": "code",
      "metadata": {
        "colab": {
          "base_uri": "https://localhost:8080/"
        },
        "id": "KIh7Jisk4hRh",
        "outputId": "36740fdb-5b1c-47f0-8e92-e2ed7f445a10"
      },
      "source": [
        "double_it() #### Pas d'argument: Arg par défaut"
      ],
      "execution_count": null,
      "outputs": [
        {
          "output_type": "execute_result",
          "data": {
            "text/plain": [
              "20"
            ]
          },
          "metadata": {},
          "execution_count": 22
        }
      ]
    },
    {
      "cell_type": "code",
      "metadata": {
        "colab": {
          "base_uri": "https://localhost:8080/"
        },
        "id": "VklbBwbX4kyh",
        "outputId": "582b552e-cb19-4064-c582-2c8064f857f6"
      },
      "source": [
        "%whos"
      ],
      "execution_count": null,
      "outputs": [
        {
          "output_type": "stream",
          "name": "stdout",
          "text": [
            "Variable                     Type        Data/Info\n",
            "--------------------------------------------------\n",
            "addition                     function    <function addition at 0x7f849f731710>\n",
            "bigx                         int         10\n",
            "calcAreaSquare               function    <function calcAreaSquare at 0x7f849f7934d0>\n",
            "double_it                    function    <function double_it at 0x7f84a4255200>\n",
            "the_answer_to_the_universe   function    <function the_answer_to_t<...>iverse at 0x7f84a4255050>\n"
          ]
        }
      ]
    },
    {
      "cell_type": "code",
      "metadata": {
        "colab": {
          "base_uri": "https://localhost:8080/"
        },
        "id": "S5ErhKMn4cV4",
        "outputId": "9780f853-aa3b-4762-af4e-b712f3f4b6c4"
      },
      "source": [
        "bigx = 1e9 #### Modification de bigx\n",
        "double_it()"
      ],
      "execution_count": null,
      "outputs": [
        {
          "output_type": "execute_result",
          "data": {
            "text/plain": [
              "20"
            ]
          },
          "metadata": {},
          "execution_count": 25
        }
      ]
    },
    {
      "cell_type": "code",
      "metadata": {
        "id": "Fa2yhnlwzjoY"
      },
      "source": [
        "def double_it(x=bigx): #### Argument: valeur en mémoire au moment ou double_it a été exécuté\n",
        "    return x * 2"
      ],
      "execution_count": null,
      "outputs": []
    },
    {
      "cell_type": "code",
      "metadata": {
        "colab": {
          "base_uri": "https://localhost:8080/"
        },
        "id": "jV8I7WG04ro7",
        "outputId": "33f541fe-2b9b-48dd-f8de-d81702d1fdfa"
      },
      "source": [
        "%whos"
      ],
      "execution_count": null,
      "outputs": [
        {
          "output_type": "stream",
          "name": "stdout",
          "text": [
            "Variable                     Type        Data/Info\n",
            "--------------------------------------------------\n",
            "addition                     function    <function addition at 0x7f849f731710>\n",
            "bigx                         float       1000000000.0\n",
            "calcAreaSquare               function    <function calcAreaSquare at 0x7f849f7934d0>\n",
            "double_it                    function    <function double_it at 0x7f849f731f80>\n",
            "the_answer_to_the_universe   function    <function the_answer_to_t<...>iverse at 0x7f84a4255050>\n"
          ]
        }
      ]
    },
    {
      "cell_type": "code",
      "metadata": {
        "colab": {
          "base_uri": "https://localhost:8080/"
        },
        "id": "uJfgPbB15N0m",
        "outputId": "bfd70e29-b29f-4de7-e2bd-5364975657a4"
      },
      "source": [
        "double_it()"
      ],
      "execution_count": null,
      "outputs": [
        {
          "output_type": "execute_result",
          "data": {
            "text/plain": [
              "2000000000.0"
            ]
          },
          "metadata": {},
          "execution_count": 28
        }
      ]
    },
    {
      "cell_type": "markdown",
      "metadata": {
        "id": "3WIj0Jmr4oG0"
      },
      "source": [
        "Using an mutable type in a keyword argument (and modifying it inside the function body)"
      ]
    },
    {
      "cell_type": "code",
      "metadata": {
        "run_control": {
          "frozen": false,
          "read_only": false
        },
        "id": "WdzgaIlw4oG1"
      },
      "source": [
        "def add_to_dict(args={'a': 0, 'b': 0}):\n",
        "    for i in args.keys(): #### POur chaque clé\n",
        "        args[i] = args[i] + 1 #### valeur de la clé s'incrément de 1\n",
        "    print(args)"
      ],
      "execution_count": null,
      "outputs": []
    },
    {
      "cell_type": "code",
      "metadata": {
        "colab": {
          "base_uri": "https://localhost:8080/"
        },
        "id": "ITl2VI2Y5um2",
        "outputId": "c11a5caf-6748-49bc-f528-861df4569a54"
      },
      "source": [
        "add_to_dict()"
      ],
      "execution_count": null,
      "outputs": [
        {
          "output_type": "stream",
          "name": "stdout",
          "text": [
            "{'a': 3, 'b': 3}\n"
          ]
        }
      ]
    },
    {
      "cell_type": "code",
      "metadata": {
        "colab": {
          "base_uri": "https://localhost:8080/"
        },
        "id": "H4i24sPt6HR2",
        "outputId": "9c1b8dec-723f-44a8-9f9e-5eaf418cd66f"
      },
      "source": [
        "%whos"
      ],
      "execution_count": null,
      "outputs": [
        {
          "output_type": "stream",
          "name": "stdout",
          "text": [
            "Variable                     Type        Data/Info\n",
            "--------------------------------------------------\n",
            "add_to_dict                  function    <function add_to_dict at 0x7f849f731830>\n",
            "addition                     function    <function addition at 0x7f849f731710>\n",
            "bigx                         float       1000000000.0\n",
            "calcAreaSquare               function    <function calcAreaSquare at 0x7f849f7934d0>\n",
            "double_it                    function    <function double_it at 0x7f849f731f80>\n",
            "the_answer_to_the_universe   function    <function the_answer_to_t<...>iverse at 0x7f84a4255050>\n"
          ]
        }
      ]
    },
    {
      "cell_type": "code",
      "metadata": {
        "run_control": {
          "frozen": false,
          "read_only": false
        },
        "id": "44LApA6k4oG3",
        "colab": {
          "base_uri": "https://localhost:8080/"
        },
        "outputId": "3a32dc97-2d34-4eea-e2a3-2d2f92e66a53"
      },
      "source": [
        "add_to_dict\n",
        "add_to_dict()\n",
        "add_to_dict()\n",
        "add_to_dict()"
      ],
      "execution_count": null,
      "outputs": [
        {
          "output_type": "stream",
          "name": "stdout",
          "text": [
            "{'a': 4, 'b': 4}\n",
            "{'a': 5, 'b': 5}\n",
            "{'a': 6, 'b': 6}\n"
          ]
        }
      ]
    },
    {
      "cell_type": "code",
      "metadata": {
        "run_control": {
          "frozen": false,
          "read_only": false
        },
        "id": "dfOVjPqs4oG7"
      },
      "source": [
        "#the {'a': 1, 'b': 2} was created in the memory on the moment that the definition was evaluated"
      ],
      "execution_count": null,
      "outputs": []
    },
    {
      "cell_type": "code",
      "metadata": {
        "run_control": {
          "frozen": false,
          "read_only": false
        },
        "id": "kSRtztU44oG8"
      },
      "source": [
        "def add_to_dict(args=None):\n",
        "    if not args: #### S'il n'y a pas d'argument\n",
        "        args = {'a': 1, 'b': 2} #### Appeler ce dictionaaire\n",
        "        \n",
        "    for i in args.keys(): #### POur chaque valeur de chaque clé du dictionnaire\n",
        "        args[i] =  args[i] +1 #### j'incréméente de 1 la valeur\n",
        "         \n",
        "    print(args)"
      ],
      "execution_count": null,
      "outputs": []
    },
    {
      "cell_type": "code",
      "metadata": {
        "run_control": {
          "frozen": false,
          "read_only": false
        },
        "id": "qUMfvO3b4oG9",
        "colab": {
          "base_uri": "https://localhost:8080/"
        },
        "outputId": "b86a77b5-f785-4073-f7c4-c328a8659bcc"
      },
      "source": [
        "add_to_dict() ### PAs d'argument"
      ],
      "execution_count": null,
      "outputs": [
        {
          "output_type": "stream",
          "name": "stdout",
          "text": [
            "{'a': 2, 'b': 3}\n"
          ]
        }
      ]
    },
    {
      "cell_type": "code",
      "metadata": {
        "colab": {
          "base_uri": "https://localhost:8080/"
        },
        "id": "DCpr89iq01u8",
        "outputId": "3d073fd6-6279-4e43-a729-cc4ccf82a566"
      },
      "source": [
        "add_to_dict() "
      ],
      "execution_count": null,
      "outputs": [
        {
          "output_type": "stream",
          "name": "stdout",
          "text": [
            "{'a': 2, 'b': 3}\n"
          ]
        }
      ]
    },
    {
      "cell_type": "markdown",
      "metadata": {
        "id": "1qFKUpei4oG-"
      },
      "source": [
        "### Variable number of parameters"
      ]
    },
    {
      "cell_type": "markdown",
      "metadata": {
        "id": "c50eJzc94oHA"
      },
      "source": [
        "\n",
        "Special forms of parameters:\n",
        "\n",
        "* *args: any number of positional arguments packed into a tuple\n",
        "* **kwargs: any number of keyword arguments packed into a dictionary\n",
        "\n"
      ]
    },
    {
      "cell_type": "code",
      "metadata": {
        "run_control": {
          "frozen": false,
          "read_only": false
        },
        "id": "H67nSh5b4oHD",
        "colab": {
          "base_uri": "https://localhost:8080/",
          "height": 128
        },
        "outputId": "64e37b4f-278c-4fe8-9c6c-1e3990a59dfa"
      },
      "source": [
        "def variable_args(*args, **kwargs):\n",
        "    print('args is', args)\n",
        "    print('kwargs is', kwargs)\n",
        "\n",
        "variable_args('one', 'two', x=1, y=2, z=3)"
      ],
      "execution_count": null,
      "outputs": [
        {
          "output_type": "error",
          "ename": "SyntaxError",
          "evalue": "ignored",
          "traceback": [
            "\u001b[0;36m  File \u001b[0;32m\"<ipython-input-39-c8b59ea5b16e>\"\u001b[0;36m, line \u001b[0;32m5\u001b[0m\n\u001b[0;31m    variable_args('one',x=1,'two' ,  y=2, z=3)\u001b[0m\n\u001b[0m                           ^\u001b[0m\n\u001b[0;31mSyntaxError\u001b[0m\u001b[0;31m:\u001b[0m positional argument follows keyword argument\n"
          ]
        }
      ]
    },
    {
      "cell_type": "markdown",
      "metadata": {
        "id": "Vlh-GN9m4oHF"
      },
      "source": [
        "### Docstrings"
      ]
    },
    {
      "cell_type": "markdown",
      "metadata": {
        "id": "lwhk254Z4oHG"
      },
      "source": [
        "Documentation about what the function does and its parameters. General convention:"
      ]
    },
    {
      "cell_type": "code",
      "metadata": {
        "run_control": {
          "frozen": false,
          "read_only": false
        },
        "id": "8hPS9ww34oHH"
      },
      "source": [
        "def funcname(params):\n",
        "    \"\"\"Concise one-line sentence describing the function.\n",
        "    \n",
        "    Extended summary which can contain multiple paragraphs.\n",
        "    \"\"\"\n",
        "    # function body\n",
        "    pass\n",
        "\n",
        "funcname?"
      ],
      "execution_count": null,
      "outputs": []
    },
    {
      "cell_type": "markdown",
      "metadata": {
        "id": "wkFhNHUW4oHI"
      },
      "source": [
        "### Functions are objects"
      ]
    },
    {
      "cell_type": "markdown",
      "metadata": {
        "id": "ax055Tc44oHI"
      },
      "source": [
        "\n",
        "Functions are first-class objects, which means they can be:\n",
        "\n",
        "* assigned to a variable\n",
        "* an item in a list (or any collection)\n",
        "* passed as an argument to another function.\n",
        "\n"
      ]
    },
    {
      "cell_type": "code",
      "metadata": {
        "colab": {
          "base_uri": "https://localhost:8080/"
        },
        "id": "7VztkYEm2grg",
        "outputId": "0fcdf2b7-3ec6-4d7a-a20e-351a7eca44ae"
      },
      "source": [
        "a = [1, 3, 8, 9, 89]\n",
        "a"
      ],
      "execution_count": null,
      "outputs": [
        {
          "output_type": "execute_result",
          "data": {
            "text/plain": [
              "[1, 3, 8, 9, 89]"
            ]
          },
          "metadata": {},
          "execution_count": 42
        }
      ]
    },
    {
      "cell_type": "code",
      "metadata": {
        "colab": {
          "base_uri": "https://localhost:8080/"
        },
        "id": "fRd_woqr2meg",
        "outputId": "f8e45319-8327-481f-f572-8ab608955565"
      },
      "source": [
        "import numpy as np\n",
        "np.mean(a)"
      ],
      "execution_count": null,
      "outputs": [
        {
          "output_type": "execute_result",
          "data": {
            "text/plain": [
              "22.0"
            ]
          },
          "metadata": {},
          "execution_count": 43
        }
      ]
    },
    {
      "cell_type": "code",
      "metadata": {
        "id": "k6w_a4Un2vXU"
      },
      "source": [
        "m = np.mean #### Renommer une fonction et récupérer ses arguments\n"
      ],
      "execution_count": null,
      "outputs": []
    },
    {
      "cell_type": "code",
      "metadata": {
        "colab": {
          "base_uri": "https://localhost:8080/"
        },
        "id": "Jtee5fS520E2",
        "outputId": "a0ce3bee-aef2-4427-eac6-71d152737c34"
      },
      "source": [
        "m(a)"
      ],
      "execution_count": null,
      "outputs": [
        {
          "output_type": "execute_result",
          "data": {
            "text/plain": [
              "22.0"
            ]
          },
          "metadata": {},
          "execution_count": 45
        }
      ]
    },
    {
      "cell_type": "code",
      "metadata": {
        "run_control": {
          "frozen": false,
          "read_only": false
        },
        "id": "2vOfOyNz4oHJ",
        "colab": {
          "base_uri": "https://localhost:8080/"
        },
        "outputId": "c9f09588-3c66-4d2a-cd1a-1c913ae47705"
      },
      "source": [
        "va = variable_args\n",
        "va('three', x=1, y=2)"
      ],
      "execution_count": null,
      "outputs": [
        {
          "output_type": "stream",
          "name": "stdout",
          "text": [
            "args is ('three',)\n",
            "kwargs is {'x': 1, 'y': 2}\n"
          ]
        }
      ]
    },
    {
      "cell_type": "code",
      "metadata": {
        "id": "hEZbbETG3cO_"
      },
      "source": [
        ""
      ],
      "execution_count": null,
      "outputs": []
    },
    {
      "cell_type": "markdown",
      "metadata": {
        "id": "QCCEWRhe4oHL"
      },
      "source": [
        "### Methods"
      ]
    },
    {
      "cell_type": "markdown",
      "metadata": {
        "id": "2_VsXtDw4oHN"
      },
      "source": [
        "Methods are functions attached to objects. You’ve seen these in our examples on lists, dictionaries, strings, etc...\n",
        "\n",
        "Calling them can be done by dir(object):"
      ]
    },
    {
      "cell_type": "markdown",
      "metadata": {
        "id": "NnFw5ZZa4oHP"
      },
      "source": [
        "-------------------------------"
      ]
    },
    {
      "cell_type": "code",
      "metadata": {
        "run_control": {
          "frozen": false,
          "read_only": false
        },
        "id": "sMCFkGRc4oHQ"
      },
      "source": [
        "dd = {'antea': 3, 'IMDC': 2, 'arcadis': 4, 'witteveen': 5, 'grontmij': 1}"
      ],
      "execution_count": null,
      "outputs": []
    },
    {
      "cell_type": "markdown",
      "metadata": {
        "id": "oZeeli-A4oHQ"
      },
      "source": [
        "<div class=\"alert alert-success\">\n",
        "    <b>EXERCISE</b>: Make a function of the exercise in the previous notebook: Given the dictionary `dd`, check if a key is already existing in the dictionary and raise an exception if the key already exist. Otherwise, return the dict with the element added.\n",
        "</div>"
      ]
    },
    {
      "cell_type": "code",
      "metadata": {
        "colab": {
          "base_uri": "https://localhost:8080/"
        },
        "id": "glKiq5OI9YBv",
        "outputId": "cf22eb20-0b5e-4953-87df-e40d3adfc562"
      },
      "source": [
        "dd"
      ],
      "execution_count": null,
      "outputs": [
        {
          "output_type": "execute_result",
          "data": {
            "text/plain": [
              "{'IMDC': 2, 'antea': 3, 'arcadis': 4, 'grontmij': 1, 'witteveen': 5}"
            ]
          },
          "metadata": {},
          "execution_count": 48
        }
      ]
    },
    {
      "cell_type": "code",
      "metadata": {
        "id": "-TcKGAsX9ZsL"
      },
      "source": [
        "dd[\"hello\"] = 98"
      ],
      "execution_count": null,
      "outputs": []
    },
    {
      "cell_type": "code",
      "metadata": {
        "colab": {
          "base_uri": "https://localhost:8080/"
        },
        "id": "9QJdhkah9e7N",
        "outputId": "d4c786fa-acf5-4172-b578-dc620578193b"
      },
      "source": [
        "dd"
      ],
      "execution_count": null,
      "outputs": [
        {
          "output_type": "execute_result",
          "data": {
            "text/plain": [
              "{'IMDC': 2,\n",
              " 'antea': 3,\n",
              " 'arcadis': 4,\n",
              " 'grontmij': 1,\n",
              " 'hello': 98,\n",
              " 'witteveen': 5}"
            ]
          },
          "metadata": {},
          "execution_count": 50
        }
      ]
    },
    {
      "cell_type": "code",
      "metadata": {
        "id": "rNMoL9Lb4oHR"
      },
      "source": [
        "### Fonction : 2 arguments dd, clé\n",
        "#### SOrtie: Print"
      ],
      "execution_count": null,
      "outputs": []
    },
    {
      "cell_type": "code",
      "metadata": {
        "id": "1fJVlSf63Apr"
      },
      "source": [
        "def in_dico(dico, cle):\n",
        "  ### CAs 1: Si la clé est dans le dictionnaire alors \n",
        "  #### Afficher un print (In the dictionnary)\n",
        "  if (cle in dico):\n",
        "    print(\"In the dictionnary\")\n",
        "  #### Cas 2: Si la clé n'est pas dans le dictionnaire, \n",
        "  ##### Afficher a clé n'est pas dans le dictionaire\n",
        "  else:\n",
        "    print(\"Not in the dictionary\")"
      ],
      "execution_count": null,
      "outputs": []
    },
    {
      "cell_type": "code",
      "metadata": {
        "id": "RxiA9Yo39FEC"
      },
      "source": [
        ""
      ],
      "execution_count": null,
      "outputs": []
    },
    {
      "cell_type": "code",
      "metadata": {
        "colab": {
          "base_uri": "https://localhost:8080/"
        },
        "id": "JcpJZTto3MAn",
        "outputId": "45b65b05-a784-4719-cf0b-dc3740dc90a7"
      },
      "source": [
        "in_dico(dd, \"antea\")"
      ],
      "execution_count": null,
      "outputs": [
        {
          "output_type": "stream",
          "name": "stdout",
          "text": [
            "In the dictionnary\n"
          ]
        }
      ]
    },
    {
      "cell_type": "code",
      "metadata": {
        "run_control": {
          "frozen": false,
          "read_only": false
        },
        "id": "JuZG9u2h4oHR"
      },
      "source": [
        "check_for_key(dd, 'deme')"
      ],
      "execution_count": null,
      "outputs": []
    },
    {
      "cell_type": "code",
      "metadata": {
        "run_control": {
          "frozen": false,
          "read_only": false
        },
        "id": "DqK17HjH4oHS"
      },
      "source": [
        "#check_for_key(dd, 'antea') # uncomment this line"
      ],
      "execution_count": null,
      "outputs": []
    },
    {
      "cell_type": "code",
      "metadata": {
        "id": "4vxKuPrH9GZH"
      },
      "source": [
        "##### Variante du code\n",
        "\n",
        "\n",
        "def in_dico(dico, cle):\n",
        "  ### CAs 1: Si la clé est dans le dictionnaire alors \n",
        "  #### Afficher un print (In the dictionnary)\n",
        "  if (cle in dico):\n",
        "    raise Exception(\"In the dictionnary\")\n",
        "  #### Cas 2: Si la clé n'est pas dans le dictionnaire, \n",
        "  ##### Afficher a clé n'est pas dans le dictionaire\n",
        "  else:\n",
        "    print(\"Not in the dictionary\")"
      ],
      "execution_count": null,
      "outputs": []
    },
    {
      "cell_type": "code",
      "metadata": {
        "id": "VX9nfx0J-KP_"
      },
      "source": [
        "dd = {'antea': 3, 'IMDC': 2, 'arcadis': 4, 'witteveen': 5, 'grontmij': 1}"
      ],
      "execution_count": 2,
      "outputs": []
    },
    {
      "cell_type": "code",
      "metadata": {
        "colab": {
          "base_uri": "https://localhost:8080/",
          "height": 278
        },
        "id": "vCKh5eF6yrjP",
        "outputId": "fcd8c81e-97da-4d4e-afc1-511df2d490cf"
      },
      "source": [
        "in_dico(dd, 'antea')"
      ],
      "execution_count": null,
      "outputs": [
        {
          "output_type": "error",
          "ename": "Exception",
          "evalue": "ignored",
          "traceback": [
            "\u001b[0;31m---------------------------------------------------------------------------\u001b[0m",
            "\u001b[0;31mException\u001b[0m                                 Traceback (most recent call last)",
            "\u001b[0;32m<ipython-input-63-b28351d83a0e>\u001b[0m in \u001b[0;36m<module>\u001b[0;34m()\u001b[0m\n\u001b[0;32m----> 1\u001b[0;31m \u001b[0min_dico\u001b[0m\u001b[0;34m(\u001b[0m\u001b[0mdd\u001b[0m\u001b[0;34m,\u001b[0m \u001b[0;34m'antea'\u001b[0m\u001b[0;34m)\u001b[0m\u001b[0;34m\u001b[0m\u001b[0;34m\u001b[0m\u001b[0m\n\u001b[0m",
            "\u001b[0;32m<ipython-input-61-739838b8545c>\u001b[0m in \u001b[0;36min_dico\u001b[0;34m(dico, cle)\u001b[0m\n\u001b[1;32m      6\u001b[0m   \u001b[0;31m#### Afficher un print (In the dictionnary)\u001b[0m\u001b[0;34m\u001b[0m\u001b[0;34m\u001b[0m\u001b[0;34m\u001b[0m\u001b[0m\n\u001b[1;32m      7\u001b[0m   \u001b[0;32mif\u001b[0m \u001b[0;34m(\u001b[0m\u001b[0mcle\u001b[0m \u001b[0;32min\u001b[0m \u001b[0mdico\u001b[0m\u001b[0;34m)\u001b[0m\u001b[0;34m:\u001b[0m\u001b[0;34m\u001b[0m\u001b[0;34m\u001b[0m\u001b[0m\n\u001b[0;32m----> 8\u001b[0;31m     \u001b[0;32mraise\u001b[0m \u001b[0mException\u001b[0m\u001b[0;34m(\u001b[0m\u001b[0;34m\"In the dictionnary\"\u001b[0m\u001b[0;34m)\u001b[0m\u001b[0;34m\u001b[0m\u001b[0;34m\u001b[0m\u001b[0m\n\u001b[0m\u001b[1;32m      9\u001b[0m   \u001b[0;31m#### Cas 2: Si la clé n'est pas dans le dictionnaire,\u001b[0m\u001b[0;34m\u001b[0m\u001b[0;34m\u001b[0m\u001b[0;34m\u001b[0m\u001b[0m\n\u001b[1;32m     10\u001b[0m   \u001b[0;31m##### Afficher a clé n'est pas dans le dictionaire\u001b[0m\u001b[0;34m\u001b[0m\u001b[0;34m\u001b[0m\u001b[0;34m\u001b[0m\u001b[0m\n",
            "\u001b[0;31mException\u001b[0m: In the dictionnary"
          ]
        }
      ]
    },
    {
      "cell_type": "code",
      "metadata": {
        "id": "c_2b48Zg9oK3"
      },
      "source": [
        "##### Variante du code 2 --> Ajout du dictionnaire\n",
        "\n",
        "\n",
        "def in_dico_(dico, cle, valeur):\n",
        "  ### CAs 1: Si la clé est dans le dictionnaire alors \n",
        "  #### Afficher un print (In the dictionnary)\n",
        "  if (cle in dico):\n",
        "    raise Exception(\"In the dictionnary\")\n",
        "  #### Cas 2: Si la clé n'est pas dans le dictionnaire, \n",
        "  ##### Afficher a clé n'est pas dans le dictionaire\n",
        "  else:\n",
        "    dico[cle] = valeur #### AJout de la clé et de la valeur à dd\n",
        "    print(\"Not in the dictionary\")\n",
        "    print(dd) #### Afficher le dicionnaire"
      ],
      "execution_count": 1,
      "outputs": []
    },
    {
      "cell_type": "code",
      "metadata": {
        "colab": {
          "base_uri": "https://localhost:8080/",
          "height": 292
        },
        "id": "9B-jmA-u9OUt",
        "outputId": "53e7f524-ce7f-47e5-dd73-686e22fb572a"
      },
      "source": [
        "in_dico_(dd, \"Hi\", 67) ### Ajout d'une nouvelle clé"
      ],
      "execution_count": 4,
      "outputs": [
        {
          "output_type": "error",
          "ename": "Exception",
          "evalue": "ignored",
          "traceback": [
            "\u001b[0;31m---------------------------------------------------------------------------\u001b[0m",
            "\u001b[0;31mException\u001b[0m                                 Traceback (most recent call last)",
            "\u001b[0;32m<ipython-input-4-fc54c2333a47>\u001b[0m in \u001b[0;36m<module>\u001b[0;34m()\u001b[0m\n\u001b[0;32m----> 1\u001b[0;31m \u001b[0min_dico_\u001b[0m\u001b[0;34m(\u001b[0m\u001b[0mdd\u001b[0m\u001b[0;34m,\u001b[0m \u001b[0;34m\"Hi\"\u001b[0m\u001b[0;34m,\u001b[0m \u001b[0;36m67\u001b[0m\u001b[0;34m)\u001b[0m \u001b[0;31m### Ajout d'une nouvelle clé\u001b[0m\u001b[0;34m\u001b[0m\u001b[0;34m\u001b[0m\u001b[0m\n\u001b[0m",
            "\u001b[0;32m<ipython-input-1-cbfcbc43082d>\u001b[0m in \u001b[0;36min_dico_\u001b[0;34m(dico, cle, valeur)\u001b[0m\n\u001b[1;32m      6\u001b[0m   \u001b[0;31m#### Afficher un print (In the dictionnary)\u001b[0m\u001b[0;34m\u001b[0m\u001b[0;34m\u001b[0m\u001b[0;34m\u001b[0m\u001b[0m\n\u001b[1;32m      7\u001b[0m   \u001b[0;32mif\u001b[0m \u001b[0;34m(\u001b[0m\u001b[0mcle\u001b[0m \u001b[0;32min\u001b[0m \u001b[0mdico\u001b[0m\u001b[0;34m)\u001b[0m\u001b[0;34m:\u001b[0m\u001b[0;34m\u001b[0m\u001b[0;34m\u001b[0m\u001b[0m\n\u001b[0;32m----> 8\u001b[0;31m     \u001b[0;32mraise\u001b[0m \u001b[0mException\u001b[0m\u001b[0;34m(\u001b[0m\u001b[0;34m\"In the dictionnary\"\u001b[0m\u001b[0;34m)\u001b[0m\u001b[0;34m\u001b[0m\u001b[0;34m\u001b[0m\u001b[0m\n\u001b[0m\u001b[1;32m      9\u001b[0m   \u001b[0;31m#### Cas 2: Si la clé n'est pas dans le dictionnaire,\u001b[0m\u001b[0;34m\u001b[0m\u001b[0;34m\u001b[0m\u001b[0;34m\u001b[0m\u001b[0m\n\u001b[1;32m     10\u001b[0m   \u001b[0;31m##### Afficher a clé n'est pas dans le dictionaire\u001b[0m\u001b[0;34m\u001b[0m\u001b[0;34m\u001b[0m\u001b[0;34m\u001b[0m\u001b[0m\n",
            "\u001b[0;31mException\u001b[0m: In the dictionnary"
          ]
        }
      ]
    },
    {
      "cell_type": "code",
      "metadata": {
        "colab": {
          "base_uri": "https://localhost:8080/",
          "height": 278
        },
        "id": "OQuPzs3i-Uyy",
        "outputId": "10ccf738-ce5b-4c1e-8c29-b3eaca7498ee"
      },
      "source": [
        "in_dico_(dd, \"Hi\", 67) ### Ajout d'une nouvelle clé"
      ],
      "execution_count": null,
      "outputs": [
        {
          "output_type": "error",
          "ename": "Exception",
          "evalue": "ignored",
          "traceback": [
            "\u001b[0;31m---------------------------------------------------------------------------\u001b[0m",
            "\u001b[0;31mException\u001b[0m                                 Traceback (most recent call last)",
            "\u001b[0;32m<ipython-input-67-fc54c2333a47>\u001b[0m in \u001b[0;36m<module>\u001b[0;34m()\u001b[0m\n\u001b[0;32m----> 1\u001b[0;31m \u001b[0min_dico_\u001b[0m\u001b[0;34m(\u001b[0m\u001b[0mdd\u001b[0m\u001b[0;34m,\u001b[0m \u001b[0;34m\"Hi\"\u001b[0m\u001b[0;34m,\u001b[0m \u001b[0;36m67\u001b[0m\u001b[0;34m)\u001b[0m \u001b[0;31m### Ajout d'une nouvelle clé\u001b[0m\u001b[0;34m\u001b[0m\u001b[0;34m\u001b[0m\u001b[0m\n\u001b[0m",
            "\u001b[0;32m<ipython-input-65-cbfcbc43082d>\u001b[0m in \u001b[0;36min_dico_\u001b[0;34m(dico, cle, valeur)\u001b[0m\n\u001b[1;32m      6\u001b[0m   \u001b[0;31m#### Afficher un print (In the dictionnary)\u001b[0m\u001b[0;34m\u001b[0m\u001b[0;34m\u001b[0m\u001b[0;34m\u001b[0m\u001b[0m\n\u001b[1;32m      7\u001b[0m   \u001b[0;32mif\u001b[0m \u001b[0;34m(\u001b[0m\u001b[0mcle\u001b[0m \u001b[0;32min\u001b[0m \u001b[0mdico\u001b[0m\u001b[0;34m)\u001b[0m\u001b[0;34m:\u001b[0m\u001b[0;34m\u001b[0m\u001b[0;34m\u001b[0m\u001b[0m\n\u001b[0;32m----> 8\u001b[0;31m     \u001b[0;32mraise\u001b[0m \u001b[0mException\u001b[0m\u001b[0;34m(\u001b[0m\u001b[0;34m\"In the dictionnary\"\u001b[0m\u001b[0;34m)\u001b[0m\u001b[0;34m\u001b[0m\u001b[0;34m\u001b[0m\u001b[0m\n\u001b[0m\u001b[1;32m      9\u001b[0m   \u001b[0;31m#### Cas 2: Si la clé n'est pas dans le dictionnaire,\u001b[0m\u001b[0;34m\u001b[0m\u001b[0;34m\u001b[0m\u001b[0;34m\u001b[0m\u001b[0m\n\u001b[1;32m     10\u001b[0m   \u001b[0;31m##### Afficher a clé n'est pas dans le dictionaire\u001b[0m\u001b[0;34m\u001b[0m\u001b[0;34m\u001b[0m\u001b[0;34m\u001b[0m\u001b[0m\n",
            "\u001b[0;31mException\u001b[0m: In the dictionnary"
          ]
        }
      ]
    },
    {
      "cell_type": "code",
      "metadata": {
        "id": "Pd7_XY4--a8c"
      },
      "source": [
        "##### Variante du code 2 --> Ajout du dictionnaire\n",
        "\n",
        "\n",
        "def in_dico_(dico, cle, valeur):\n",
        "  ### CAs 1: Si la clé est dans le dictionnaire alors \n",
        "  #### Afficher un print (In the dictionnary)\n",
        "  if (cle in dico):\n",
        "    #raise Exception(\"In the dictionnary\")\n",
        "  #### Cas 1: POur chaque élement de mon objet (Pas nécéssaire)\n",
        "    #### Si la clé dans l'argument de la fonction est dans les clé du dictionnaire (in)\n",
        "    #### Je récupéère la clé, clé = concat(clé, \"_\") et ajout au dicionnaire\n",
        "    cle = cle+\"_\"\n",
        "    dico[cle] = valeur\n",
        "    print(dico)\n",
        "  #### Cas 2: Si la clé n'est pas dans le dictionnaire, \n",
        "  ##### Afficher a clé n'est pas dans le dictionaire\n",
        "  else:\n",
        "    #### Cas 2: Si la clé n'est pas dans la liste \n",
        "    dico[cle] = valeur #### AJout de la clé et de la valeur à dd\n",
        "    print(\"Not in the dictionary\")\n",
        "    print(dico)"
      ],
      "execution_count": 5,
      "outputs": []
    },
    {
      "cell_type": "code",
      "metadata": {
        "colab": {
          "base_uri": "https://localhost:8080/"
        },
        "id": "UohrNO579Oh5",
        "outputId": "89cbf0d3-f494-4eb3-f692-ac821ba162a6"
      },
      "source": [
        "in_dico_(dd, \"ias\", 7)"
      ],
      "execution_count": 8,
      "outputs": [
        {
          "output_type": "stream",
          "name": "stdout",
          "text": [
            "{'antea': 3, 'IMDC': 2, 'arcadis': 4, 'witteveen': 5, 'grontmij': 1, 'Hi': 67, 'ias': 7, 'ias_': 7}\n"
          ]
        }
      ]
    },
    {
      "cell_type": "code",
      "metadata": {
        "colab": {
          "base_uri": "https://localhost:8080/"
        },
        "id": "AtH8P-OCz-IQ",
        "outputId": "56066d9a-7801-47cd-c045-c3e1d4c984ba"
      },
      "source": [
        "in_dico_(dd, \"ias_\", 7)"
      ],
      "execution_count": null,
      "outputs": [
        {
          "output_type": "stream",
          "name": "stdout",
          "text": [
            "{'antea': 3, 'IMDC': 2, 'arcadis': 4, 'witteveen': 5, 'grontmij': 1, 'Hi': 67, 'ias': 7, 'ias_': 7, 'ias__': 7}\n"
          ]
        }
      ]
    },
    {
      "cell_type": "code",
      "metadata": {
        "colab": {
          "base_uri": "https://localhost:8080/"
        },
        "id": "sRaB34yLzpwe",
        "outputId": "66d7c0c4-4871-4025-e50e-8de3cdcb2b15"
      },
      "source": [
        "dd"
      ],
      "execution_count": null,
      "outputs": [
        {
          "output_type": "execute_result",
          "data": {
            "text/plain": [
              "{'Hi': 67,\n",
              " 'IMDC': 2,\n",
              " 'antea': 3,\n",
              " 'arcadis': 4,\n",
              " 'grontmij': 1,\n",
              " 'hello': 98,\n",
              " 'ias': 7,\n",
              " 'ias_': 7,\n",
              " 'witteveen': 5}"
            ]
          },
          "metadata": {},
          "execution_count": 31
        }
      ]
    },
    {
      "cell_type": "markdown",
      "metadata": {
        "id": "XDhLEObh4cIp"
      },
      "source": [
        "#### Exercice 2: Pythagore: Calcul du troisième coté d'un triangle en utilisant une fonction"
      ]
    },
    {
      "cell_type": "code",
      "metadata": {
        "id": "5BcV9XKk3eGa"
      },
      "source": [
        "#### Entrée: a, b (int) : note a, b int --> float, str, boolean, \n",
        "#### Sortie: c\n"
      ],
      "execution_count": null,
      "outputs": []
    },
    {
      "cell_type": "code",
      "metadata": {
        "id": "0RmL9xka3zMm"
      },
      "source": [
        "#### Gestion des exceptions pours les cas suivants:\n",
        "\n",
        "#### Saisie d'une str dans les arguments de la fonction\n",
        "#### Sasie un nombre complexe\n",
        "#### Saisie d'un nombre négatif\n",
        "#### Saisie d'un très grand nombre\n",
        "#### Saisie d'un très petit nombre "
      ],
      "execution_count": null,
      "outputs": []
    },
    {
      "cell_type": "code",
      "metadata": {
        "id": "N24mCqiq3n2b"
      },
      "source": [
        "def pythagore(a, b):#### Création de la fonction Pytagore\n",
        "  ##### Retourner hypothénuse d'un triangle rectangle\n",
        "  c = (a**2 + b**2)**(1/2)\n",
        "  return c\n"
      ],
      "execution_count": 9,
      "outputs": []
    },
    {
      "cell_type": "code",
      "metadata": {
        "id": "2MAvIY9320mi"
      },
      "source": [
        "*66544y3^^^==$$**ù^*6$$^**665565556***))=^%µ£¨*66666*"
      ],
      "execution_count": null,
      "outputs": []
    },
    {
      "cell_type": "code",
      "metadata": {
        "colab": {
          "base_uri": "https://localhost:8080/"
        },
        "id": "A_JsXpk6BNOg",
        "outputId": "a4ac4d37-61b6-4952-866c-2d65040f91e1"
      },
      "source": [
        "pythagore(3, 4) #### FOnction 1: OK"
      ],
      "execution_count": 10,
      "outputs": [
        {
          "output_type": "execute_result",
          "data": {
            "text/plain": [
              "5.0"
            ]
          },
          "metadata": {},
          "execution_count": 10
        }
      ]
    },
    {
      "cell_type": "code",
      "metadata": {
        "colab": {
          "base_uri": "https://localhost:8080/",
          "height": 262
        },
        "id": "UK5AA9X-Bghg",
        "outputId": "ff66b94d-c5dd-445a-d43d-03064612d7ef"
      },
      "source": [
        "pythagore(3, \"e\")"
      ],
      "execution_count": null,
      "outputs": [
        {
          "output_type": "error",
          "ename": "TypeError",
          "evalue": "ignored",
          "traceback": [
            "\u001b[0;31m---------------------------------------------------------------------------\u001b[0m",
            "\u001b[0;31mTypeError\u001b[0m                                 Traceback (most recent call last)",
            "\u001b[0;32m<ipython-input-86-e83acc83f9ae>\u001b[0m in \u001b[0;36m<module>\u001b[0;34m()\u001b[0m\n\u001b[0;32m----> 1\u001b[0;31m \u001b[0mpythagore\u001b[0m\u001b[0;34m(\u001b[0m\u001b[0;36m3\u001b[0m\u001b[0;34m,\u001b[0m \u001b[0;34m\"e\"\u001b[0m\u001b[0;34m)\u001b[0m\u001b[0;34m\u001b[0m\u001b[0;34m\u001b[0m\u001b[0m\n\u001b[0m",
            "\u001b[0;32m<ipython-input-84-1574d1fa21fc>\u001b[0m in \u001b[0;36mpythagore\u001b[0;34m(a, b)\u001b[0m\n\u001b[1;32m      1\u001b[0m \u001b[0;32mdef\u001b[0m \u001b[0mpythagore\u001b[0m\u001b[0;34m(\u001b[0m\u001b[0ma\u001b[0m\u001b[0;34m,\u001b[0m \u001b[0mb\u001b[0m\u001b[0;34m)\u001b[0m\u001b[0;34m:\u001b[0m\u001b[0;31m#### Création de la fonction Pytagore\u001b[0m\u001b[0;34m\u001b[0m\u001b[0;34m\u001b[0m\u001b[0m\n\u001b[1;32m      2\u001b[0m   \u001b[0;31m##### Retourner hypothénuse d'un triangle rectangle\u001b[0m\u001b[0;34m\u001b[0m\u001b[0;34m\u001b[0m\u001b[0;34m\u001b[0m\u001b[0m\n\u001b[0;32m----> 3\u001b[0;31m   \u001b[0mc\u001b[0m \u001b[0;34m=\u001b[0m \u001b[0;34m(\u001b[0m\u001b[0ma\u001b[0m\u001b[0;34m**\u001b[0m\u001b[0;36m2\u001b[0m \u001b[0;34m+\u001b[0m \u001b[0mb\u001b[0m\u001b[0;34m**\u001b[0m\u001b[0;36m2\u001b[0m\u001b[0;34m)\u001b[0m\u001b[0;34m**\u001b[0m\u001b[0;34m(\u001b[0m\u001b[0;36m1\u001b[0m\u001b[0;34m/\u001b[0m\u001b[0;36m2\u001b[0m\u001b[0;34m)\u001b[0m\u001b[0;34m\u001b[0m\u001b[0;34m\u001b[0m\u001b[0m\n\u001b[0m\u001b[1;32m      4\u001b[0m   \u001b[0;32mreturn\u001b[0m \u001b[0mc\u001b[0m\u001b[0;34m\u001b[0m\u001b[0;34m\u001b[0m\u001b[0m\n",
            "\u001b[0;31mTypeError\u001b[0m: unsupported operand type(s) for ** or pow(): 'str' and 'int'"
          ]
        }
      ]
    },
    {
      "cell_type": "code",
      "metadata": {
        "id": "v8CAMFob3bKC"
      },
      "source": [
        "def calcul(a, b):\n",
        "   c = (a**2 + b**2)**(1/2)\n",
        "   return c"
      ],
      "execution_count": null,
      "outputs": []
    },
    {
      "cell_type": "code",
      "metadata": {
        "colab": {
          "base_uri": "https://localhost:8080/"
        },
        "id": "bVCNShcD3jSE",
        "outputId": "bd017324-5a98-468a-cfbb-60acc6643162"
      },
      "source": [
        "calcul(3, 4)"
      ],
      "execution_count": null,
      "outputs": [
        {
          "output_type": "execute_result",
          "data": {
            "text/plain": [
              "5.0"
            ]
          },
          "metadata": {},
          "execution_count": 9
        }
      ]
    },
    {
      "cell_type": "code",
      "metadata": {
        "id": "mlRLUY4CBYa8"
      },
      "source": [
        "def pythagore(a, b):#### Création de la fonction Pytagore\n",
        "  #### Variable en entrée: non str\n",
        "\n",
        "  #### Si a ou b est un str alors\n",
        "  #### Message erreur: Impossibilté saisir str dans la fonction\n",
        "\n",
        "  if (type(a)==str) or (type(b)==str):\n",
        "    print(\"Impossibilité de saisir un str dans la fonction\")\n",
        "    print(\"Veuillez saisir un valeur numérique:\")\n",
        "    if(type(a) == str) & (type(b) == int):\n",
        "      a = int(input()) #### Saisie d'une nouvelle valeur pour a\n",
        "    elif (type(b) == str) & (type(a) == int):\n",
        "      b = int(input()) #### Saisie d'une nouvelle valeur pour b\n",
        "    else:\n",
        "      a = int(input()) #### Saisie d'une nouvelle valeur pour a\n",
        "      b = int(input()) #### Saisie d'une nouvelle valeur pour b\n",
        "\n",
        "  return calcul(a, b) # ##### Retourner hypothénuse d'un triangle rectangle (Appel à la fonction calcul)\n",
        "  # else:\n",
        "  #   c = (a**2 + b**2)**(1/2)\n",
        "  #   return c\n"
      ],
      "execution_count": null,
      "outputs": []
    },
    {
      "cell_type": "code",
      "metadata": {
        "colab": {
          "base_uri": "https://localhost:8080/"
        },
        "id": "Q_RhVfBbCMLI",
        "outputId": "265bccff-e816-4da3-de74-d22febb66b2f"
      },
      "source": [
        "pythagore(\"a\", 4) #### ok"
      ],
      "execution_count": null,
      "outputs": [
        {
          "name": "stdout",
          "output_type": "stream",
          "text": [
            "Impossibilité de saisir un str dans la fonction\n",
            "Veuillez saisir un valeur numérique:\n",
            "3\n"
          ]
        },
        {
          "output_type": "execute_result",
          "data": {
            "text/plain": [
              "5.0"
            ]
          },
          "metadata": {},
          "execution_count": 11
        }
      ]
    },
    {
      "cell_type": "code",
      "metadata": {
        "colab": {
          "base_uri": "https://localhost:8080/"
        },
        "id": "wiiJssDo4GdQ",
        "outputId": "8e52505e-a06d-45cc-d878-b2032479719c"
      },
      "source": [
        "pythagore(3, \"a\") #### ok"
      ],
      "execution_count": null,
      "outputs": [
        {
          "name": "stdout",
          "output_type": "stream",
          "text": [
            "Impossibilité de saisir un str dans la fonction\n",
            "Veuillez saisir un valeur numérique:\n",
            "4\n"
          ]
        },
        {
          "output_type": "execute_result",
          "data": {
            "text/plain": [
              "5.0"
            ]
          },
          "metadata": {},
          "execution_count": 12
        }
      ]
    },
    {
      "cell_type": "code",
      "metadata": {
        "colab": {
          "base_uri": "https://localhost:8080/"
        },
        "id": "JMSza_4d4QLS",
        "outputId": "f0c2cc30-df95-454b-839f-b11e33bb9967"
      },
      "source": [
        "pythagore(\"a\", \"b\")"
      ],
      "execution_count": null,
      "outputs": [
        {
          "name": "stdout",
          "output_type": "stream",
          "text": [
            "Impossibilité de saisir un str dans la fonction\n",
            "Veuillez saisir un valeur numérique:\n",
            "3\n",
            "4\n"
          ]
        },
        {
          "output_type": "execute_result",
          "data": {
            "text/plain": [
              "5.0"
            ]
          },
          "metadata": {},
          "execution_count": 13
        }
      ]
    },
    {
      "cell_type": "code",
      "metadata": {
        "colab": {
          "base_uri": "https://localhost:8080/"
        },
        "id": "O8nCbYw47Fmw",
        "outputId": "61c08dcc-486e-408c-a3f1-c8bd263593e3"
      },
      "source": [
        "1 +4j"
      ],
      "execution_count": null,
      "outputs": [
        {
          "output_type": "execute_result",
          "data": {
            "text/plain": [
              "(1+4j)"
            ]
          },
          "metadata": {},
          "execution_count": 63
        }
      ]
    },
    {
      "cell_type": "code",
      "metadata": {
        "colab": {
          "base_uri": "https://localhost:8080/"
        },
        "id": "xxzqudAY7WCO",
        "outputId": "bd89a973-6760-4ccd-889a-4cfd2003b548"
      },
      "source": [
        "(1+4j).real"
      ],
      "execution_count": null,
      "outputs": [
        {
          "output_type": "execute_result",
          "data": {
            "text/plain": [
              "1.0"
            ]
          },
          "metadata": {},
          "execution_count": 64
        }
      ]
    },
    {
      "cell_type": "code",
      "metadata": {
        "id": "IjYXUK1_65gR"
      },
      "source": [
        "def is_cplx(a, b):\n",
        "  #### Si les nombre entrée sont complexes\n",
        "  if (type(a) == complex) and (type(b) ==int):\n",
        "     a = a.real #### On prend la partie réelle du nombre et on réaffecte la valeur de a avec\n",
        "  elif (type(b) == complex)  and (type(a) ==int):\n",
        "     b = b.real #### On prend la partie réelle du nombre et on réaffecte la valeur de b avec\n",
        "  else:\n",
        "     a = a.real\n",
        "     b = b.real\n",
        "     return a, b\n"
      ],
      "execution_count": null,
      "outputs": []
    },
    {
      "cell_type": "code",
      "metadata": {
        "colab": {
          "base_uri": "https://localhost:8080/"
        },
        "id": "VQFYtVEf8Qmv",
        "outputId": "a213fa44-8fe9-47c3-bb32-c36a33a87fda"
      },
      "source": [
        "is_cplx(1 + 6j, 5 + 7j)"
      ],
      "execution_count": null,
      "outputs": [
        {
          "output_type": "execute_result",
          "data": {
            "text/plain": [
              "(1.0, 5.0)"
            ]
          },
          "metadata": {},
          "execution_count": 82
        }
      ]
    },
    {
      "cell_type": "code",
      "metadata": {
        "id": "i86VMwTc6lr5"
      },
      "source": [
        "def pythagore(a, b):#### Création de la fonction Pytagore\n",
        "  #### Variable en entrée: non str\n",
        "  ##############################################################################################\n",
        "  #### Cas 1: Chaine de caractère\n",
        "  ##############################################################################################\n",
        "  #### Si a ou b est un str alors\n",
        "  #### Message erreur: Impossibilté saisir str dans la fonction\n",
        "\n",
        "  if (type(a)==str) or (type(b)==str):\n",
        "    print(\"Impossibilité de saisir un str dans la fonction\")\n",
        "    print(\"Veuillez saisir un valeur numérique:\")\n",
        "    if(type(a) == str) & (type(b) == int):\n",
        "      a = int(input()) #### Saisie d'une nouvelle valeur pour a\n",
        "    elif (type(b) == str) & (type(a) == int):\n",
        "      b = int(input()) #### Saisie d'une nouvelle valeur pour b\n",
        "    else:\n",
        "      a = int(input()) #### Saisie d'une nouvelle valeur pour a\n",
        "      b = int(input()) #### Saisie d'une nouvelle valeur pour b\n",
        "  \n",
        "  ############################################################################################\"\"\n",
        "  #### Cas 2: Complexe\n",
        "  ##############################################################################################\n",
        "  elif (type(a) == complex) or (type(b) ==complex): #### Si l'une des deux valeurs saisie est cplx\n",
        "    is_cplx(a,b)\n",
        "    print(is_cplx(a,b)[0])\n",
        "    print(is_cplx(a,b)[1])\n",
        "    a = is_cplx(a,b)[0] #### Partie réelle du premier nombre complexe\n",
        "    b = is_cplx(a,b)[1] #### Partie réelle du second nombre complexe\n",
        "  return calcul(a, b) # ##### Retourner hypothénuse d'un triangle rectangle (Appel à la fonction calcul)\n",
        "  # else:\n",
        "  #   c = (a**2 + b**2)**(1/2)\n",
        "  #   return c\n"
      ],
      "execution_count": null,
      "outputs": []
    },
    {
      "cell_type": "code",
      "metadata": {
        "colab": {
          "base_uri": "https://localhost:8080/"
        },
        "id": "-G5bkBg19v9N",
        "outputId": "bcf69f85-2332-41ae-dac2-cb3e3b3b6fc3"
      },
      "source": [
        "is_cplx(1 + 6j, 5 + 7j)[0] ### Premier élement"
      ],
      "execution_count": null,
      "outputs": [
        {
          "output_type": "execute_result",
          "data": {
            "text/plain": [
              "1.0"
            ]
          },
          "metadata": {},
          "execution_count": 101
        }
      ]
    },
    {
      "cell_type": "code",
      "metadata": {
        "colab": {
          "base_uri": "https://localhost:8080/"
        },
        "id": "D0IBcs_l919U",
        "outputId": "b8b3f927-e17d-4c27-eca8-241cabb06ce4"
      },
      "source": [
        "is_cplx(1 + 6j, 5 + 7j)[1] ### Deuxième élement"
      ],
      "execution_count": null,
      "outputs": [
        {
          "output_type": "execute_result",
          "data": {
            "text/plain": [
              "5.0"
            ]
          },
          "metadata": {},
          "execution_count": 102
        }
      ]
    },
    {
      "cell_type": "code",
      "metadata": {
        "colab": {
          "base_uri": "https://localhost:8080/"
        },
        "id": "bniFgmv46l1u",
        "outputId": "4d8d2919-0351-42b8-dcaa-a97ea64f93bb"
      },
      "source": [
        "pythagore(3 + 6j, 4 + 7j) ### Test pour les nombre complexe : ok"
      ],
      "execution_count": null,
      "outputs": [
        {
          "output_type": "stream",
          "name": "stdout",
          "text": [
            "3.0\n",
            "4.0\n"
          ]
        },
        {
          "output_type": "execute_result",
          "data": {
            "text/plain": [
              "5.0"
            ]
          },
          "metadata": {},
          "execution_count": 131
        }
      ]
    },
    {
      "cell_type": "code",
      "metadata": {
        "colab": {
          "base_uri": "https://localhost:8080/"
        },
        "id": "_iv7z3vt6l-A",
        "outputId": "d09bd907-b311-43fe-e5fd-a14053a566a5"
      },
      "source": [
        "#### Test sur les str\n",
        "#pythagore(\"a\", 4) \n",
        "pythagore(\"a\", \"b\") #### Test ok"
      ],
      "execution_count": null,
      "outputs": [
        {
          "name": "stdout",
          "output_type": "stream",
          "text": [
            "Impossibilité de saisir un str dans la fonction\n",
            "Veuillez saisir un valeur numérique:\n",
            "3\n",
            "4\n"
          ]
        },
        {
          "output_type": "execute_result",
          "data": {
            "text/plain": [
              "5.0"
            ]
          },
          "metadata": {},
          "execution_count": 132
        }
      ]
    },
    {
      "cell_type": "code",
      "metadata": {
        "id": "xinKkxer6mQ2"
      },
      "source": [
        "#### Saisie d'un nombre négatif: ok\n",
        "#### Saisie d'un très grand nombre\n",
        "#### Saisie d'un très petit nombre "
      ],
      "execution_count": null,
      "outputs": []
    },
    {
      "cell_type": "code",
      "metadata": {
        "id": "Vcb4i9s__1Y3"
      },
      "source": [
        "def neg(a,b):\n",
        "  #### Si l'une des deux valeurs est négative alors\n",
        "  if (a < 0) and (b > 0):\n",
        "    a = abs(a)\n",
        "    #b = abs(b)    #### on passe cette valeur à la valeur absolue\n",
        "    return (a, b) #### On calcul c\n",
        "  elif (a < 0) and (b > 0):\n",
        "    b = abs(b) \n",
        "  else:\n",
        "    a = abs(a)\n",
        "    b = abs(b) \n",
        "    return(a, b)"
      ],
      "execution_count": null,
      "outputs": []
    },
    {
      "cell_type": "code",
      "metadata": {
        "colab": {
          "base_uri": "https://localhost:8080/"
        },
        "id": "cX87n4Gm_u10",
        "outputId": "23ee35e2-8da1-4ecd-c004-f370ad9e5494"
      },
      "source": [
        "neg(-3., 4)"
      ],
      "execution_count": null,
      "outputs": [
        {
          "output_type": "execute_result",
          "data": {
            "text/plain": [
              "(3.0, 4)"
            ]
          },
          "metadata": {},
          "execution_count": 222
        }
      ]
    },
    {
      "cell_type": "code",
      "metadata": {
        "colab": {
          "base_uri": "https://localhost:8080/"
        },
        "id": "K5pMHusvEBAi",
        "outputId": "17c6cee5-007c-41a7-db96-c95f0aa710f1"
      },
      "source": [
        "neg(-3, 4)[0]"
      ],
      "execution_count": null,
      "outputs": [
        {
          "output_type": "execute_result",
          "data": {
            "text/plain": [
              "3"
            ]
          },
          "metadata": {},
          "execution_count": 223
        }
      ]
    },
    {
      "cell_type": "code",
      "metadata": {
        "colab": {
          "base_uri": "https://localhost:8080/"
        },
        "id": "g5i3j0Sj_u5u",
        "outputId": "5784b3c9-af26-4fdb-b802-9158fb83f505"
      },
      "source": [
        "neg(3, -4) [1]"
      ],
      "execution_count": null,
      "outputs": [
        {
          "output_type": "execute_result",
          "data": {
            "text/plain": [
              "4"
            ]
          },
          "metadata": {},
          "execution_count": 224
        }
      ]
    },
    {
      "cell_type": "code",
      "metadata": {
        "colab": {
          "base_uri": "https://localhost:8080/"
        },
        "id": "wHdCV9CB_vC9",
        "outputId": "e77974e2-ad49-49e5-a4c8-c2883565f4d4"
      },
      "source": [
        "neg(-3, -4) #### Test OK pour les valeur négative "
      ],
      "execution_count": null,
      "outputs": [
        {
          "output_type": "execute_result",
          "data": {
            "text/plain": [
              "(3, 4)"
            ]
          },
          "metadata": {},
          "execution_count": 225
        }
      ]
    },
    {
      "cell_type": "code",
      "metadata": {
        "id": "XMmXtz01BL4_"
      },
      "source": [
        "def pythagore(a, b):#### Création de la fonction Pytagore\n",
        "  #### Variable en entrée: non str\n",
        "  ##############################################################################################\n",
        "  #### Cas 1: Chaine de caractère\n",
        "  ##############################################################################################\n",
        "  #### Si a ou b est un str alors\n",
        "  #### Message erreur: Impossibilté saisir str dans la fonction\n",
        "\n",
        "  if (type(a)==str) or (type(b)==str):\n",
        "    print(\"Impossibilité de saisir un str dans la fonction\")\n",
        "    print(\"Veuillez saisir un valeur numérique:\")\n",
        "    if(type(a) == str) & (type(b) == int):\n",
        "      a = int(input()) #### Saisie d'une nouvelle valeur pour a\n",
        "    elif (type(b) == str) & (type(a) == int):\n",
        "      b = int(input()) #### Saisie d'une nouvelle valeur pour b\n",
        "    else:\n",
        "      a = int(input()) #### Saisie d'une nouvelle valeur pour a\n",
        "      b = int(input()) #### Saisie d'une nouvelle valeur pour b\n",
        "  \n",
        "  ############################################################################################\"\"\n",
        "  #### Cas 2: Complexe\n",
        "  ##############################################################################################\n",
        "  elif (type(a) == complex) or (type(b) ==complex): #### Si l'une des deux valeurs saisie est cplx\n",
        "    is_cplx(a,b)\n",
        "    print(is_cplx(a,b)[0])\n",
        "    print(is_cplx(a,b)[1])\n",
        "    a = is_cplx(a,b)[0] #### Partie réelle du premier nombre complexe\n",
        "    b = is_cplx(a,b)[1] #### Partie réelle du second nombre complexe\n",
        "  \n",
        "  ############################################################################################\"\"\n",
        "  #### Cas 3: Entier Négatif\n",
        "  ##############################################################################################\n",
        "  elif (type(a) in [int, float]) and (type(b) in [int, float]):\n",
        "    #neg(a, b) #### Résultat de l'opération\n",
        "    a = neg(a,b)[0] #### Varaible a (valeur absolue)\n",
        "    b = neg(a,b)[1] #### Variable b (valeur absolue)\n",
        "    # print(a)\n",
        "    # print(b)\n",
        "    # print(neg(a, b))\n",
        "\n",
        "  ###########################################################################################\"\"\n",
        "  #### Cas 4: Longeur de la variable \n",
        "  ##############################################################################################\n",
        "  elif (len(str(b)) > 16) or (len(str(a)) > 16):\n",
        "    limit_digit(a, b)\n",
        "    a = limit_digit(a, b)[0]\n",
        "    b = limit_digit(a, b)[1]\n",
        "\n",
        "  return calcul(a, b) # ##### Retourner hypothénuse d'un triangle rectangle (Appel à la fonction calcul)\n",
        "  # else:\n",
        "  #   c = (a**2 + b**2)**(1/2)\n",
        "  #   return c\n"
      ],
      "execution_count": null,
      "outputs": []
    },
    {
      "cell_type": "code",
      "metadata": {
        "id": "BrtqSmcsB1Hm"
      },
      "source": [
        "a = \"4\""
      ],
      "execution_count": null,
      "outputs": []
    },
    {
      "cell_type": "code",
      "metadata": {
        "colab": {
          "base_uri": "https://localhost:8080/"
        },
        "id": "V2_-O3YvBMHk",
        "outputId": "4652c68a-718f-480b-c55a-db2e0bc36c1b"
      },
      "source": [
        "type(a) in [int, float]"
      ],
      "execution_count": null,
      "outputs": [
        {
          "output_type": "execute_result",
          "data": {
            "text/plain": [
              "False"
            ]
          },
          "metadata": {},
          "execution_count": 237
        }
      ]
    },
    {
      "cell_type": "code",
      "metadata": {
        "colab": {
          "base_uri": "https://localhost:8080/"
        },
        "id": "yp9YfDiXBMM2",
        "outputId": "a1ab775e-81e7-4e98-a4ec-b93572e1260a"
      },
      "source": [
        "pythagore(3., 4.) ### Ok int #### Ok float"
      ],
      "execution_count": null,
      "outputs": [
        {
          "output_type": "execute_result",
          "data": {
            "text/plain": [
              "5.0"
            ]
          },
          "metadata": {},
          "execution_count": 238
        }
      ]
    },
    {
      "cell_type": "code",
      "metadata": {
        "colab": {
          "base_uri": "https://localhost:8080/"
        },
        "id": "BgbhF5EECSqd",
        "outputId": "7fd9a9b4-463c-4744-e138-25a2006c1c44"
      },
      "source": [
        "pythagore(-4, 3.) ### Ok int ### ok float"
      ],
      "execution_count": null,
      "outputs": [
        {
          "output_type": "execute_result",
          "data": {
            "text/plain": [
              "5.0"
            ]
          },
          "metadata": {},
          "execution_count": 239
        }
      ]
    },
    {
      "cell_type": "code",
      "metadata": {
        "colab": {
          "base_uri": "https://localhost:8080/"
        },
        "id": "sLP9VPpoCSvL",
        "outputId": "47c16e68-6c40-4ec7-e9f0-62ee10f71851"
      },
      "source": [
        "pythagore(-4., -3.) #### ok int #### ok float"
      ],
      "execution_count": null,
      "outputs": [
        {
          "output_type": "execute_result",
          "data": {
            "text/plain": [
              "5.0"
            ]
          },
          "metadata": {},
          "execution_count": 240
        }
      ]
    },
    {
      "cell_type": "code",
      "metadata": {
        "id": "rM1rP59HCSzf"
      },
      "source": [
        "#### Cas 4: Saisie d'un très grand nombre"
      ],
      "execution_count": null,
      "outputs": []
    },
    {
      "cell_type": "code",
      "metadata": {
        "colab": {
          "base_uri": "https://localhost:8080/"
        },
        "id": "j3D9ziW3G860",
        "outputId": "1c131b5d-0f7c-40b4-fa75-ef0834ebe14e"
      },
      "source": [
        "print(99999999999999999999999999999999999999999999999999999999999999999999999999999999999999999999999999999999999999999999999999999999999999999999999999999999999999999999999999999999999999999999999999999999999999999999999999999999999999999999999999999999999999999999999999999999999999999999999999999999999999999999999999999999999999999999999999999999999999999999999999999999999999999999999999999999999999999999999999999999999999999999999999999999999999999999999999999999999999999999999999999999999999999999999999999999999999999999999999999999999999999999999999999999999999999999999999999999999999999999999999999999999999999999999999999999999999999999999999999999999999999999999999999999999999999999999999999999999999999999999999999999999999999999999999999999999999999999999999999999999999999999999999999999999999999999999999999 +1 +2)"
      ],
      "execution_count": null,
      "outputs": [
        {
          "output_type": "stream",
          "name": "stdout",
          "text": [
            "100000000000000000000000000000000000000000000000000000000000000000000000000000000000000000000000000000000000000000000000000000000000000000000000000000000000000000000000000000000000000000000000000000000000000000000000000000000000000000000000000000000000000000000000000000000000000000000000000000000000000000000000000000000000000000000000000000000000000000000000000000000000000000000000000000000000000000000000000000000000000000000000000000000000000000000000000000000000000000000000000000000000000000000000000000000000000000000000000000000000000000000000000000000000000000000000000000000000000000000000000000000000000000000000000000000000000000000000000000000000000000000000000000000000000000000000000000000000000000000000000000000000000000000000000000000000000000000000000000000000000000000000000000000000000000000000000002\n"
          ]
        }
      ]
    },
    {
      "cell_type": "code",
      "metadata": {
        "colab": {
          "base_uri": "https://localhost:8080/"
        },
        "id": "YbrTh23YG9G9",
        "outputId": "3e788145-c62f-435a-c051-ea56d76fd18d"
      },
      "source": [
        "##### Définir une limite sur le nombre de digit\n",
        "\n",
        "\n",
        "len([3,4])"
      ],
      "execution_count": null,
      "outputs": [
        {
          "output_type": "execute_result",
          "data": {
            "text/plain": [
              "2"
            ]
          },
          "metadata": {},
          "execution_count": 251
        }
      ]
    },
    {
      "cell_type": "code",
      "metadata": {
        "colab": {
          "base_uri": "https://localhost:8080/"
        },
        "id": "vsO-3ZaEG9K_",
        "outputId": "9b063176-84e7-464e-c04d-87de0f37b326"
      },
      "source": [
        "len(str(999999999999999999999999999999999993)) #### "
      ],
      "execution_count": null,
      "outputs": [
        {
          "output_type": "execute_result",
          "data": {
            "text/plain": [
              "36"
            ]
          },
          "metadata": {},
          "execution_count": 254
        }
      ]
    },
    {
      "cell_type": "code",
      "metadata": {
        "id": "acWJbSJeG9Q1"
      },
      "source": [
        "#### Fonction tq\n",
        "#### Si le nombre de digit est > à la borne alors \n",
        "#### 1) Reinput\n",
        "#### Correction nombre\n",
        "\n",
        "def limit_digit(a, b, borne):\n",
        "  #### Si le nombre de digit est > à la borne alors \n",
        "  if (len(str(a)) > borne ) :\n",
        "    # print(\"Le nombre saisie comporte plus de 16 digit, Veuillez le resaisir.\")\n",
        "    # a = int(input())\n",
        "    while((len(str(a)) > borne)): #### Tant que la longeur de a est > à 16 et que l'objet est non entier ( and (type(a) not in [int, float])\n",
        "      print(\"Le nombre saisie comporte plus de 16 digit, Veuillez le resaisir.\") ####Affiche un message d'erreur\n",
        "      a = int(input()) #### Resaisir la valeur\n",
        "  elif (len(str(b)) > borne ):\n",
        "      while((len(str(b)) > borne)): #### Tant que la longeur de a est > à 16 et que l'objet est non entier ( and (type(a) not in [int, float])\n",
        "        print(\"Le nombre saisie comporte plus de 16 digit, Veuillez le resaisir.\") ####Affiche un message d'erreur\n",
        "        b = int(input()) #### Resaisir la valeur\n",
        "  else:\n",
        "    while((len(str(b)) > borne) and (len(str(a)) > borne)  ) : #### Tant que la longeur de a est > à 16 et que l'objet est non entier ( and (type(a) not in [int, float])\n",
        "      print(\"Le nombre saisie comporte plus de 16 digit, Veuillez le resaisir.\") ####Affiche un message d'erreur\n",
        "      #b = int(input()) #### Resaisir la valeur\n",
        "      a = int(input())\n",
        "      b = int(input())\n",
        "  return (a, b)"
      ],
      "execution_count": null,
      "outputs": []
    },
    {
      "cell_type": "code",
      "metadata": {
        "colab": {
          "base_uri": "https://localhost:8080/"
        },
        "id": "4c7uJaDkG6Wv",
        "outputId": "cb0a3105-db6c-4380-b930-83ea8785b970"
      },
      "source": [
        "limit_digit(3, 4, 1)"
      ],
      "execution_count": null,
      "outputs": [
        {
          "output_type": "execute_result",
          "data": {
            "text/plain": [
              "(3, 4)"
            ]
          },
          "metadata": {},
          "execution_count": 4
        }
      ]
    },
    {
      "cell_type": "code",
      "metadata": {
        "colab": {
          "base_uri": "https://localhost:8080/"
        },
        "id": "nULAV2W2G6bp",
        "outputId": "56331ff9-478a-440c-e7a3-95fc849c2f50"
      },
      "source": [
        "limit_digit(9999999999, 4, 2)"
      ],
      "execution_count": null,
      "outputs": [
        {
          "name": "stdout",
          "output_type": "stream",
          "text": [
            "Le nombre saisie comporte plus de 16 digit, Veuillez le resaisir.\n",
            "88888888888888888888888888888\n",
            "Le nombre saisie comporte plus de 16 digit, Veuillez le resaisir.\n",
            "777777777777777777777777777\n",
            "Le nombre saisie comporte plus de 16 digit, Veuillez le resaisir.\n",
            "555555555555555555555555555555\n",
            "Le nombre saisie comporte plus de 16 digit, Veuillez le resaisir.\n",
            "222\n",
            "Le nombre saisie comporte plus de 16 digit, Veuillez le resaisir.\n",
            "1\n"
          ]
        },
        {
          "output_type": "execute_result",
          "data": {
            "text/plain": [
              "(1, 4)"
            ]
          },
          "metadata": {},
          "execution_count": 5
        }
      ]
    },
    {
      "cell_type": "code",
      "metadata": {
        "colab": {
          "base_uri": "https://localhost:8080/"
        },
        "id": "6Zc2EoK7G6hq",
        "outputId": "a099a6d7-0ac6-4376-8311-ba1560940c25"
      },
      "source": [
        "limit_digit(9999999999, 77777, 2)"
      ],
      "execution_count": null,
      "outputs": [
        {
          "name": "stdout",
          "output_type": "stream",
          "text": [
            "Le nombre saisie comporte plus de 16 digit, Veuillez le resaisir.\n",
            "2\n"
          ]
        },
        {
          "output_type": "execute_result",
          "data": {
            "text/plain": [
              "(2, 77777)"
            ]
          },
          "metadata": {},
          "execution_count": 276
        }
      ]
    },
    {
      "cell_type": "code",
      "metadata": {
        "colab": {
          "base_uri": "https://localhost:8080/"
        },
        "id": "MbRJrAT_G6nj",
        "outputId": "3aa8145e-28a4-4081-860d-3cc0346f8cce"
      },
      "source": [
        "limit_digit(9999999999, 7777799999999, 2)"
      ],
      "execution_count": null,
      "outputs": [
        {
          "name": "stdout",
          "output_type": "stream",
          "text": [
            "Le nombre saisie comporte plus de 16 digit, Veuillez le resaisir.\n",
            "3\n"
          ]
        },
        {
          "output_type": "execute_result",
          "data": {
            "text/plain": [
              "(3, 7777799999999)"
            ]
          },
          "metadata": {},
          "execution_count": 277
        }
      ]
    },
    {
      "cell_type": "code",
      "metadata": {
        "colab": {
          "base_uri": "https://localhost:8080/"
        },
        "id": "qqNv47KNG6rb",
        "outputId": "f87d2a04-681e-4aa3-a1b0-329b82d0cfc1"
      },
      "source": [
        "pythagore(9999999999, 7777799999999)"
      ],
      "execution_count": null,
      "outputs": [
        {
          "output_type": "execute_result",
          "data": {
            "text/plain": [
              "7777806428549.403"
            ]
          },
          "metadata": {},
          "execution_count": 279
        }
      ]
    },
    {
      "cell_type": "code",
      "metadata": {
        "id": "ORWCfdtYG6vZ"
      },
      "source": [
        ""
      ],
      "execution_count": null,
      "outputs": []
    },
    {
      "cell_type": "code",
      "metadata": {
        "id": "i9QyKXdS_vIk"
      },
      "source": [
        ""
      ],
      "execution_count": null,
      "outputs": []
    },
    {
      "cell_type": "code",
      "metadata": {
        "colab": {
          "base_uri": "https://localhost:8080/",
          "height": 52
        },
        "id": "gslh1YLh220D",
        "outputId": "ae29059f-b97b-4df1-d539-79f952b70763"
      },
      "source": [
        "input(3)"
      ],
      "execution_count": null,
      "outputs": [
        {
          "name": "stdout",
          "output_type": "stream",
          "text": [
            "36\n"
          ]
        },
        {
          "output_type": "execute_result",
          "data": {
            "application/vnd.google.colaboratory.intrinsic+json": {
              "type": "string"
            },
            "text/plain": [
              "'6'"
            ]
          },
          "metadata": {},
          "execution_count": 43
        }
      ]
    },
    {
      "cell_type": "code",
      "metadata": {
        "id": "9nOgiOvcDaWD"
      },
      "source": [
        "a =  1 + 3j"
      ],
      "execution_count": null,
      "outputs": []
    },
    {
      "cell_type": "code",
      "metadata": {
        "colab": {
          "base_uri": "https://localhost:8080/"
        },
        "id": "9j92w_0jDfpl",
        "outputId": "1973a869-dc58-407a-ff20-ae28f7a940c6"
      },
      "source": [
        "a.imag != 0"
      ],
      "execution_count": null,
      "outputs": [
        {
          "output_type": "execute_result",
          "data": {
            "text/plain": [
              "True"
            ]
          },
          "metadata": {},
          "execution_count": 98
        }
      ]
    },
    {
      "cell_type": "code",
      "metadata": {
        "colab": {
          "base_uri": "https://localhost:8080/"
        },
        "id": "rQvjZuXFDoEt",
        "outputId": "d5bfa82d-06ca-4b40-d446-27b050665a35"
      },
      "source": [
        "a.real"
      ],
      "execution_count": null,
      "outputs": [
        {
          "output_type": "execute_result",
          "data": {
            "text/plain": [
              "1.0"
            ]
          },
          "metadata": {},
          "execution_count": 99
        }
      ]
    },
    {
      "cell_type": "code",
      "metadata": {
        "colab": {
          "base_uri": "https://localhost:8080/"
        },
        "id": "67r15W-dECu-",
        "outputId": "8a459073-0fd7-4626-e95c-74c0906f216e"
      },
      "source": [
        "count = 0\n",
        "\n",
        "while (count <= 8):\n",
        "  print(count)\n",
        "  count = count +1 "
      ],
      "execution_count": null,
      "outputs": [
        {
          "output_type": "stream",
          "name": "stdout",
          "text": [
            "0\n",
            "1\n",
            "2\n",
            "3\n",
            "4\n",
            "5\n",
            "6\n",
            "7\n",
            "8\n"
          ]
        }
      ]
    },
    {
      "cell_type": "markdown",
      "metadata": {
        "id": "eiUFFYWb4oHS"
      },
      "source": [
        "-----------------------------"
      ]
    },
    {
      "cell_type": "markdown",
      "metadata": {
        "collapsed": true,
        "id": "3eD-aCmK4oHT"
      },
      "source": [
        "## Object oriented Programming"
      ]
    },
    {
      "cell_type": "markdown",
      "metadata": {
        "id": "WYYc8OwL4oHU"
      },
      "source": [
        "Wondering what OO is? A very nice introduction is given here: http://py.processing.org/tutorials/objects/"
      ]
    },
    {
      "cell_type": "markdown",
      "metadata": {
        "collapsed": true,
        "id": "K9m9dUPI4oHV"
      },
      "source": [
        "Python supports object-oriented programming (OOP). The goals of OOP are:\n",
        "\n",
        "* to organize the code, and\n",
        "* to re-use code in similar contexts.\n",
        "\n"
      ]
    },
    {
      "cell_type": "markdown",
      "metadata": {
        "id": "6_eeAQhV4oHW"
      },
      "source": [
        "Here is a small example: we create a Student class, which is an object gathering several custom functions (**methods**) and variables (**attributes**), we will be able to use:"
      ]
    },
    {
      "cell_type": "code",
      "metadata": {
        "run_control": {
          "frozen": false,
          "read_only": false
        },
        "id": "KJ5W4YiE4oHW"
      },
      "source": [
        "class Employee():  #object\n",
        "    \n",
        "    def __init__(self, name, wage=60.):\n",
        "        \"\"\"\n",
        "        Employee class to save the amount of hours worked and related earnings\n",
        "        \"\"\"\n",
        "        self.name = name\n",
        "        self.wage = wage\n",
        "        \n",
        "        self.hours = 0.        \n",
        "        \n",
        "    def worked(self, hours):\n",
        "        \"\"\"add worked hours on a project\n",
        "        \"\"\"\n",
        "        try:\n",
        "            hours = float(hours)\n",
        "        except:\n",
        "            raise Exception(\"Hours not convertable to float!\")\n",
        "            \n",
        "        self.hours += hours\n",
        "        \n",
        "    def calc_earnings(self):\n",
        "        \"\"\"\n",
        "        Calculate earnings\n",
        "        \"\"\"\n",
        "        return self.hours *self.wage"
      ],
      "execution_count": null,
      "outputs": []
    },
    {
      "cell_type": "code",
      "metadata": {
        "run_control": {
          "frozen": false,
          "read_only": false
        },
        "id": "EJnpFjid4oHY"
      },
      "source": [
        "bert = Employee('bert')"
      ],
      "execution_count": null,
      "outputs": []
    },
    {
      "cell_type": "code",
      "metadata": {
        "run_control": {
          "frozen": false,
          "read_only": false
        },
        "id": "s0ulMcuA4oHZ"
      },
      "source": [
        "bert.worked(10.)\n",
        "bert.worked(20.)\n",
        "bert.wage = 80."
      ],
      "execution_count": null,
      "outputs": []
    },
    {
      "cell_type": "code",
      "metadata": {
        "run_control": {
          "frozen": false,
          "read_only": false
        },
        "id": "WtPZ5-ms4oHa"
      },
      "source": [
        "bert.calc_earnings()"
      ],
      "execution_count": null,
      "outputs": []
    },
    {
      "cell_type": "code",
      "metadata": {
        "run_control": {
          "frozen": false,
          "read_only": false
        },
        "id": "irqemtKu4oHb"
      },
      "source": [
        "dir(Employee)"
      ],
      "execution_count": null,
      "outputs": []
    },
    {
      "cell_type": "markdown",
      "metadata": {
        "id": "RDl0Y60h4oHd"
      },
      "source": [
        "It is just the same al all the other objects we worked with!"
      ]
    },
    {
      "cell_type": "markdown",
      "metadata": {
        "id": "WCTGnVR14oHd"
      },
      "source": [
        "---------------------------------------"
      ]
    },
    {
      "cell_type": "markdown",
      "metadata": {
        "id": "AJDS7asl4oHe"
      },
      "source": [
        "<div class=\"alert alert-success\">\n",
        "    <b>EXERCISE</b>: Extend the class `Employee` with a projects attribute, which is a dictionary. Projects can be added by the method `new_project`. Hours are contributed to a specific project\n",
        "</div>"
      ]
    },
    {
      "cell_type": "code",
      "metadata": {
        "id": "_4GiXTPl4oHf"
      },
      "source": [
        ""
      ],
      "execution_count": null,
      "outputs": []
    },
    {
      "cell_type": "code",
      "metadata": {
        "run_control": {
          "frozen": false,
          "read_only": false
        },
        "id": "WhiSM6yu4oHf"
      },
      "source": [
        "bert = Employee('bert')\n",
        "bert.new_project('vmm')"
      ],
      "execution_count": null,
      "outputs": []
    },
    {
      "cell_type": "code",
      "metadata": {
        "run_control": {
          "frozen": false,
          "read_only": false
        },
        "id": "BWpBlnOA4oHg"
      },
      "source": [
        "bert.worked(10., 'vmm')"
      ],
      "execution_count": null,
      "outputs": []
    },
    {
      "cell_type": "code",
      "metadata": {
        "run_control": {
          "frozen": false,
          "read_only": false
        },
        "id": "3i3hVCuN4oHh"
      },
      "source": [
        "bert.calc_earnings()"
      ],
      "execution_count": null,
      "outputs": []
    },
    {
      "cell_type": "code",
      "metadata": {
        "run_control": {
          "frozen": false,
          "read_only": false
        },
        "id": "T0MRvxdn4oHi"
      },
      "source": [
        "bert.new_project('pwc')"
      ],
      "execution_count": null,
      "outputs": []
    },
    {
      "cell_type": "code",
      "metadata": {
        "run_control": {
          "frozen": false,
          "read_only": false
        },
        "id": "NbMuZ5UG4oHj"
      },
      "source": [
        "bert.info()"
      ],
      "execution_count": null,
      "outputs": []
    },
    {
      "cell_type": "code",
      "metadata": {
        "run_control": {
          "frozen": false,
          "read_only": false
        },
        "id": "naFJ9G2b4oHk"
      },
      "source": [
        "bert.worked(3., 'pwc')"
      ],
      "execution_count": null,
      "outputs": []
    },
    {
      "cell_type": "markdown",
      "metadata": {
        "collapsed": true,
        "id": "gzKwrDhp4oHl"
      },
      "source": [
        "---------------------------------------"
      ]
    }
  ]
}